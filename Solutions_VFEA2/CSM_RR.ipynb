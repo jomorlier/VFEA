{
  "nbformat": 4,
  "nbformat_minor": 0,
  "metadata": {
    "colab": {
      "provenance": []
    },
    "kernelspec": {
      "name": "python3",
      "display_name": "Python 3"
    },
    "language_info": {
      "name": "python"
    }
  },
  "cells": [
    {
      "cell_type": "code",
      "execution_count": 1,
      "metadata": {
        "colab": {
          "base_uri": "https://localhost:8080/",
          "height": 54
        },
        "id": "z6VgbjkyNFyZ",
        "outputId": "b68a18ff-563f-4c77-d3a6-acadf09cbaad"
      },
      "outputs": [
        {
          "output_type": "display_data",
          "data": {
            "text/plain": [
              "        2          3\n",
              "       L ⋅c⋅x   c⋅x \n",
              "u(x) = ────── - ────\n",
              "        2⋅EA    6⋅EA"
            ],
            "text/latex": "$\\displaystyle u{\\left(x \\right)} = \\frac{L^{2} c x}{2 EA} - \\frac{c x^{3}}{6 EA}$"
          },
          "metadata": {}
        }
      ],
      "source": [
        "from sympy import *\n",
        "import sympy as sp\n",
        "sp.init_printing(use_latex = \"mathjax\")\n",
        "u, c, EA, x, L = symbols(\"u c EA x L\")\n",
        "u = Function(\"u\")\n",
        "u1 = u(x).subs(x,0)\n",
        "u2 = u(x).diff(x).subs(x,L)\n",
        "sol = dsolve(u(x).diff(x,2)+c*x/EA, u(x), ics = {u1:0, u2:0})\n",
        "display(sol)"
      ]
    },
    {
      "cell_type": "code",
      "source": [
        "sp.init_printing(use_latex = \"mathjax\")\n",
        "x, a1, a2, a3, E, A, c = symbols(\"x a_1 a_2 a_3 E A c\")\n",
        "u = a3*x**3+a2*x**2+a1*x\n",
        "uL = u.subs(x,L)\n",
        "PE = integrate((1/2)*E*A*(u.diff(x)**2), (x,0,L)) - integrate(c*x*u, (x,0,L))\n",
        "display(\"Potential Energy: \", PE)\n",
        "Eq1 = PE.diff(a2)\n",
        "Eq2 = PE.diff(a1)\n",
        "Eq3 = PE.diff(a3)\n",
        "display(\"Minimize PE: \", Eq1, Eq2, Eq3)\n",
        "s = solve((Eq1, Eq2, Eq3), (a2, a1, a3))\n",
        "display(\"Solve: \", s)\n",
        "u = u.subs({a1:s[a1], a2:s[a2], a3:s[a3]})\n",
        "display(\"Best third degree Polynomial(Rayleigh Ritz method): \", u)\n",
        "stress = E * u.diff(x)\n",
        "display(\"stress: \", simplify(stress))"
      ],
      "metadata": {
        "colab": {
          "base_uri": "https://localhost:8080/",
          "height": 394
        },
        "id": "EwRQgIeRNKIw",
        "outputId": "5b3fe626-b860-443a-e6d5-f9848ab81b35"
      },
      "execution_count": 11,
      "outputs": [
        {
          "output_type": "display_data",
          "data": {
            "text/plain": [
              "'Potential Energy: '"
            ],
            "application/vnd.google.colaboratory.intrinsic+json": {
              "type": "string"
            }
          },
          "metadata": {}
        },
        {
          "output_type": "display_data",
          "data": {
            "text/plain": [
              "                                                                        5     \n",
              "         5   2            4                  2                     2   L ⋅a₃⋅c\n",
              "0.9⋅A⋅E⋅L ⋅a₃  + 1.5⋅A⋅E⋅L ⋅a₂⋅a₃ + 1.0⋅A⋅E⋅L ⋅a₁⋅a₂ + 0.5⋅A⋅E⋅L⋅a₁  - ───────\n",
              "                                                                          5   \n",
              "\n",
              "    4         3                                                      \n",
              "   L ⋅a₂⋅c   L ⋅a₁⋅c    3 ⎛                                        2⎞\n",
              " - ─────── - ─────── + L ⋅⎝1.0⋅A⋅E⋅a₁⋅a₃ + 0.666666666666667⋅A⋅E⋅a₂ ⎠\n",
              "      4         3                                                    "
            ],
            "text/latex": "$\\displaystyle 0.9 A E L^{5} a_{3}^{2} + 1.5 A E L^{4} a_{2} a_{3} + 1.0 A E L^{2} a_{1} a_{2} + 0.5 A E L a_{1}^{2} - \\frac{L^{5} a_{3} c}{5} - \\frac{L^{4} a_{2} c}{4} - \\frac{L^{3} a_{1} c}{3} + L^{3} \\cdot \\left(1.0 A E a_{1} a_{3} + 0.666666666666667 A E a_{2}^{2}\\right)$"
          },
          "metadata": {}
        },
        {
          "output_type": "display_data",
          "data": {
            "text/plain": [
              "'Minimize PE: '"
            ],
            "application/vnd.google.colaboratory.intrinsic+json": {
              "type": "string"
            }
          },
          "metadata": {}
        },
        {
          "output_type": "display_data",
          "data": {
            "text/plain": [
              "                                                              4  \n",
              "         4                            3               2      L ⋅c\n",
              "1.5⋅A⋅E⋅L ⋅a₃ + 1.33333333333333⋅A⋅E⋅L ⋅a₂ + 1.0⋅A⋅E⋅L ⋅a₁ - ────\n",
              "                                                              4  "
            ],
            "text/latex": "$\\displaystyle 1.5 A E L^{4} a_{3} + 1.33333333333333 A E L^{3} a_{2} + 1.0 A E L^{2} a_{1} - \\frac{L^{4} c}{4}$"
          },
          "metadata": {}
        },
        {
          "output_type": "display_data",
          "data": {
            "text/plain": [
              "                                                3  \n",
              "         3               2                     L ⋅c\n",
              "1.0⋅A⋅E⋅L ⋅a₃ + 1.0⋅A⋅E⋅L ⋅a₂ + 1.0⋅A⋅E⋅L⋅a₁ - ────\n",
              "                                                3  "
            ],
            "text/latex": "$\\displaystyle 1.0 A E L^{3} a_{3} + 1.0 A E L^{2} a_{2} + 1.0 A E L a_{1} - \\frac{L^{3} c}{3}$"
          },
          "metadata": {}
        },
        {
          "output_type": "display_data",
          "data": {
            "text/plain": [
              "                                                 5  \n",
              "         5               4               3      L ⋅c\n",
              "1.8⋅A⋅E⋅L ⋅a₃ + 1.5⋅A⋅E⋅L ⋅a₂ + 1.0⋅A⋅E⋅L ⋅a₁ - ────\n",
              "                                                 5  "
            ],
            "text/latex": "$\\displaystyle 1.8 A E L^{5} a_{3} + 1.5 A E L^{4} a_{2} + 1.0 A E L^{3} a_{1} - \\frac{L^{5} c}{5}$"
          },
          "metadata": {}
        },
        {
          "output_type": "display_data",
          "data": {
            "text/plain": [
              "'Solve: '"
            ],
            "application/vnd.google.colaboratory.intrinsic+json": {
              "type": "string"
            }
          },
          "metadata": {}
        },
        {
          "output_type": "display_data",
          "data": {
            "text/plain": [
              "⎧         2                                      ⎫\n",
              "⎪    0.5⋅L ⋅c               -0.166666666666667⋅c ⎪\n",
              "⎨a₁: ────────, a₂: 0.0, a₃: ─────────────────────⎬\n",
              "⎪      A⋅E                           A⋅E         ⎪\n",
              "⎩                                                ⎭"
            ],
            "text/latex": "$\\displaystyle \\left\\{ a_{1} : \\frac{0.5 L^{2} c}{A E}, \\  a_{2} : 0.0, \\  a_{3} : - \\frac{0.166666666666667 c}{A E}\\right\\}$"
          },
          "metadata": {}
        },
        {
          "output_type": "display_data",
          "data": {
            "text/plain": [
              "'Best third degree Polynomial(Rayleigh Ritz method): '"
            ],
            "application/vnd.google.colaboratory.intrinsic+json": {
              "type": "string"
            }
          },
          "metadata": {}
        },
        {
          "output_type": "display_data",
          "data": {
            "text/plain": [
              "     2                            3\n",
              "0.5⋅L ⋅c⋅x   0.166666666666667⋅c⋅x \n",
              "────────── - ──────────────────────\n",
              "   A⋅E                A⋅E          "
            ],
            "text/latex": "$\\displaystyle \\frac{0.5 L^{2} c x}{A E} - \\frac{0.166666666666667 c x^{3}}{A E}$"
          },
          "metadata": {}
        },
        {
          "output_type": "display_data",
          "data": {
            "text/plain": [
              "'stress: '"
            ],
            "application/vnd.google.colaboratory.intrinsic+json": {
              "type": "string"
            }
          },
          "metadata": {}
        },
        {
          "output_type": "display_data",
          "data": {
            "text/plain": [
              "      ⎛ 2    2⎞\n",
              "0.5⋅c⋅⎝L  - x ⎠\n",
              "───────────────\n",
              "       A       "
            ],
            "text/latex": "$\\displaystyle \\frac{0.5 c \\left(L^{2} - x^{2}\\right)}{A}$"
          },
          "metadata": {}
        }
      ]
    }
  ]
}