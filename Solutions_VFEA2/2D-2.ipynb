{
  "nbformat": 4,
  "nbformat_minor": 0,
  "metadata": {
    "colab": {
      "provenance": []
    },
    "kernelspec": {
      "name": "python3",
      "display_name": "Python 3"
    },
    "language_info": {
      "name": "python"
    }
  },
  "cells": [
    {
      "cell_type": "code",
      "execution_count": 22,
      "metadata": {
        "colab": {
          "base_uri": "https://localhost:8080/",
          "height": 572
        },
        "id": "DQdAMOFPZbF5",
        "outputId": "a920076f-4441-48bf-e460-ae0b82b24a9a"
      },
      "outputs": [
        {
          "output_type": "display_data",
          "data": {
            "text/plain": [
              "'u ='"
            ],
            "application/vnd.google.colaboratory.intrinsic+json": {
              "type": "string"
            }
          },
          "metadata": {}
        },
        {
          "output_type": "display_data",
          "data": {
            "text/plain": [
              "a_0 + a_1*x_1 + a_2*x_2"
            ],
            "text/latex": "$\\displaystyle a_{0} + a_{1} x_{1} + a_{2} x_{2}$"
          },
          "metadata": {}
        },
        {
          "output_type": "display_data",
          "data": {
            "text/plain": [
              "'v ='"
            ],
            "application/vnd.google.colaboratory.intrinsic+json": {
              "type": "string"
            }
          },
          "metadata": {}
        },
        {
          "output_type": "display_data",
          "data": {
            "text/plain": [
              "b_0 + b_1*x_1 + b_2*x_2"
            ],
            "text/latex": "$\\displaystyle b_{0} + b_{1} x_{1} + b_{2} x_{2}$"
          },
          "metadata": {}
        },
        {
          "output_type": "display_data",
          "data": {
            "text/plain": [
              "'Coordinates: '"
            ],
            "application/vnd.google.colaboratory.intrinsic+json": {
              "type": "string"
            }
          },
          "metadata": {}
        },
        {
          "output_type": "display_data",
          "data": {
            "text/plain": [
              "[{x_1: 0, x_2: 0}, {x_1: 1, x_2: 0}, {x_1: 0, x_2: 1}]"
            ]
          },
          "metadata": {}
        },
        {
          "output_type": "display_data",
          "data": {
            "text/plain": [
              "'Solve: '"
            ],
            "application/vnd.google.colaboratory.intrinsic+json": {
              "type": "string"
            }
          },
          "metadata": {}
        },
        {
          "output_type": "display_data",
          "data": {
            "text/plain": [
              "{a_0: u_1,\n",
              " a_1: -u_1 + u_2,\n",
              " a_2: -u_1 + u_3,\n",
              " b_0: v_1,\n",
              " b_1: -v_1 + v_2,\n",
              " b_2: -v_1 + v_3}"
            ]
          },
          "metadata": {}
        },
        {
          "output_type": "display_data",
          "data": {
            "text/plain": [
              "'u ='"
            ],
            "application/vnd.google.colaboratory.intrinsic+json": {
              "type": "string"
            }
          },
          "metadata": {}
        },
        {
          "output_type": "display_data",
          "data": {
            "text/plain": [
              "-u_1*x_1 - u_1*x_2 + u_1 + u_2*x_1 + u_3*x_2"
            ],
            "text/latex": "$\\displaystyle - u_{1} x_{1} - u_{1} x_{2} + u_{1} + u_{2} x_{1} + u_{3} x_{2}$"
          },
          "metadata": {}
        },
        {
          "output_type": "display_data",
          "data": {
            "text/plain": [
              "'v ='"
            ],
            "application/vnd.google.colaboratory.intrinsic+json": {
              "type": "string"
            }
          },
          "metadata": {}
        },
        {
          "output_type": "display_data",
          "data": {
            "text/plain": [
              "-v_1*x_1 - v_1*x_2 + v_1 + v_2*x_1 + v_3*x_2"
            ],
            "text/latex": "$\\displaystyle - v_{1} x_{1} - v_{1} x_{2} + v_{1} + v_{2} x_{1} + v_{3} x_{2}$"
          },
          "metadata": {}
        },
        {
          "output_type": "display_data",
          "data": {
            "text/plain": [
              "'N1u1 ='"
            ],
            "application/vnd.google.colaboratory.intrinsic+json": {
              "type": "string"
            }
          },
          "metadata": {}
        },
        {
          "output_type": "display_data",
          "data": {
            "text/plain": [
              "-x_1 - x_2 + 1"
            ],
            "text/latex": "$\\displaystyle - x_{1} - x_{2} + 1$"
          },
          "metadata": {}
        },
        {
          "output_type": "display_data",
          "data": {
            "text/plain": [
              "'N1v1 ='"
            ],
            "application/vnd.google.colaboratory.intrinsic+json": {
              "type": "string"
            }
          },
          "metadata": {}
        },
        {
          "output_type": "display_data",
          "data": {
            "text/plain": [
              "-x_1 - x_2 + 1"
            ],
            "text/latex": "$\\displaystyle - x_{1} - x_{2} + 1$"
          },
          "metadata": {}
        },
        {
          "output_type": "display_data",
          "data": {
            "text/plain": [
              "'N2u2 ='"
            ],
            "application/vnd.google.colaboratory.intrinsic+json": {
              "type": "string"
            }
          },
          "metadata": {}
        },
        {
          "output_type": "display_data",
          "data": {
            "text/plain": [
              "x_1"
            ],
            "text/latex": "$\\displaystyle x_{1}$"
          },
          "metadata": {}
        },
        {
          "output_type": "display_data",
          "data": {
            "text/plain": [
              "'N2v2 ='"
            ],
            "application/vnd.google.colaboratory.intrinsic+json": {
              "type": "string"
            }
          },
          "metadata": {}
        },
        {
          "output_type": "display_data",
          "data": {
            "text/plain": [
              "x_1"
            ],
            "text/latex": "$\\displaystyle x_{1}$"
          },
          "metadata": {}
        },
        {
          "output_type": "display_data",
          "data": {
            "text/plain": [
              "'N3u3 ='"
            ],
            "application/vnd.google.colaboratory.intrinsic+json": {
              "type": "string"
            }
          },
          "metadata": {}
        },
        {
          "output_type": "display_data",
          "data": {
            "text/plain": [
              "x_2"
            ],
            "text/latex": "$\\displaystyle x_{2}$"
          },
          "metadata": {}
        },
        {
          "output_type": "display_data",
          "data": {
            "text/plain": [
              "'N3v3 ='"
            ],
            "application/vnd.google.colaboratory.intrinsic+json": {
              "type": "string"
            }
          },
          "metadata": {}
        },
        {
          "output_type": "display_data",
          "data": {
            "text/plain": [
              "x_2"
            ],
            "text/latex": "$\\displaystyle x_{2}$"
          },
          "metadata": {}
        }
      ],
      "source": [
        "import sympy as sp\n",
        "from sympy import solve\n",
        "a0,a1,a2,x1,x2 = sp.symbols(\"a_0 a_1 a_2 x_1 x_2\")\n",
        "b0,b1,b2= sp.symbols(\"b_0 b_1 b_2\")\n",
        "u1,u2,u3,v1,v2,v3 = sp.symbols(\"u_1 u_2 u_3 v_1 v_2 v_3\")\n",
        "u = a0+a1*x1+a2*x2\n",
        "v = b0+b1*x1+b2*x2\n",
        "display(\"u =\",u,\"v =\",v)\n",
        "Coordinates = [{x1:0,x2:0},{x1:1,x2:0},{x1:0,x2:1}]\n",
        "display(\"Coordinates: \",Coordinates)\n",
        "Eq1 = u.subs(Coordinates[0])\n",
        "Eq2 = u.subs(Coordinates[1])\n",
        "Eq3 = u.subs(Coordinates[2])\n",
        "Eq4 = v.subs(Coordinates[0])\n",
        "Eq5 = v.subs(Coordinates[1])\n",
        "Eq6 = v.subs(Coordinates[2])\n",
        "s = solve((Eq1-u1,Eq2-u2,Eq3-u3,Eq4-v1,Eq5-v2,Eq6-v3),\n",
        "          (a0,a1,a2,b0,b1,b2))\n",
        "display(\"Solve: \",s)\n",
        "u = u.subs(s).expand()\n",
        "v = v.subs(s).expand()\n",
        "display(\"u =\",u,\"v =\",v)\n",
        "N1_u = u.coeff(u1)\n",
        "N1_v = v.coeff(v1)\n",
        "N2_u = u.coeff(u2)\n",
        "N2_v = v.coeff(v2)\n",
        "N3_u = u.coeff(u3)\n",
        "N3_v = v.coeff(v3)\n",
        "display(\"N1u1 =\",N1_u,\"N1v1 =\",N1_v,\"N2u2 =\",N2_u,\n",
        "        \"N2v2 =\",N2_v,\"N3u3 =\",N3_u,\"N3v3 =\",N3_v)"
      ]
    },
    {
      "cell_type": "code",
      "source": [
        "import sympy as sp\n",
        "from sympy import Matrix,integrate\n",
        "x1,x2,rb1,rb2 = sp.symbols(\"x_1 x_2 rho_1 rho_2\")\n",
        "Shapefun = Matrix([[1-x1-x2],[x1],[x2]])\n",
        "Nn = Matrix([[0 for x in range(6)] for y in range(2)])\n",
        "for i in range(3):\n",
        "    Nn[0,2*i] = Nn[1,2*i+1] = Shapefun[i]\n",
        "rb = Matrix([[rb1],[rb2]])\n",
        "f = Matrix([[integrate(i,(x1,0,1-x2),(x2,0,1))]for i in Nn.T*rb])\n",
        "display(\"Nodal Force due to Body Force:\")\n",
        "display(\"f^e =\",f)"
      ],
      "metadata": {
        "colab": {
          "base_uri": "https://localhost:8080/",
          "height": 175
        },
        "id": "UUVczPQRik3u",
        "outputId": "8b6ae399-aa50-4a41-9d28-5ab8eec28caa"
      },
      "execution_count": 23,
      "outputs": [
        {
          "output_type": "display_data",
          "data": {
            "text/plain": [
              "'Nodal Force due to Body Force:'"
            ],
            "application/vnd.google.colaboratory.intrinsic+json": {
              "type": "string"
            }
          },
          "metadata": {}
        },
        {
          "output_type": "display_data",
          "data": {
            "text/plain": [
              "'f^e ='"
            ],
            "application/vnd.google.colaboratory.intrinsic+json": {
              "type": "string"
            }
          },
          "metadata": {}
        },
        {
          "output_type": "display_data",
          "data": {
            "text/plain": [
              "Matrix([\n",
              "[rho_1/6],\n",
              "[rho_2/6],\n",
              "[rho_1/6],\n",
              "[rho_2/6],\n",
              "[rho_1/6],\n",
              "[rho_2/6]])"
            ],
            "text/latex": "$\\displaystyle \\left[\\begin{matrix}\\frac{\\rho_{1}}{6}\\\\\\frac{\\rho_{2}}{6}\\\\\\frac{\\rho_{1}}{6}\\\\\\frac{\\rho_{2}}{6}\\\\\\frac{\\rho_{1}}{6}\\\\\\frac{\\rho_{2}}{6}\\end{matrix}\\right]$"
          },
          "metadata": {}
        }
      ]
    },
    {
      "cell_type": "code",
      "source": [
        "import sympy as sp\n",
        "from sympy import Matrix,integrate\n",
        "x1,x2,t1,t2 = sp.symbols(\"x_1 x_2 t_1 t_2\")\n",
        "Shapefun = Matrix([[1-x1-x2],[x1],[x2]])\n",
        "Nn = Matrix([[0 for x in range(6)] for y in range(2)])\n",
        "for i in range(3):\n",
        "    Nn[0,2*i] = Nn[1,2*i+1] = Shapefun[i]\n",
        "tn = Matrix([[t1],[t2]])\n",
        "f = Matrix([[(integrate(i,(x2,0,1))).subs({x1:0})]for i in Nn.T*tn])\n",
        "display(\"Nodal Force due to Traction Vector on One Side:\")\n",
        "display(\"f^e =\",f)"
      ],
      "metadata": {
        "colab": {
          "base_uri": "https://localhost:8080/",
          "height": 175
        },
        "id": "xEcJloDnjViS",
        "outputId": "4a9f618c-1e5c-459c-ce8c-85577fa61275"
      },
      "execution_count": 24,
      "outputs": [
        {
          "output_type": "display_data",
          "data": {
            "text/plain": [
              "'Nodal Force due to Traction Vector on One Side:'"
            ],
            "application/vnd.google.colaboratory.intrinsic+json": {
              "type": "string"
            }
          },
          "metadata": {}
        },
        {
          "output_type": "display_data",
          "data": {
            "text/plain": [
              "'f^e ='"
            ],
            "application/vnd.google.colaboratory.intrinsic+json": {
              "type": "string"
            }
          },
          "metadata": {}
        },
        {
          "output_type": "display_data",
          "data": {
            "text/plain": [
              "Matrix([\n",
              "[t_1/2],\n",
              "[t_2/2],\n",
              "[    0],\n",
              "[    0],\n",
              "[t_1/2],\n",
              "[t_2/2]])"
            ],
            "text/latex": "$\\displaystyle \\left[\\begin{matrix}\\frac{t_{1}}{2}\\\\\\frac{t_{2}}{2}\\\\0\\\\0\\\\\\frac{t_{1}}{2}\\\\\\frac{t_{2}}{2}\\end{matrix}\\right]$"
          },
          "metadata": {}
        }
      ]
    },
    {
      "cell_type": "code",
      "source": [
        "import sympy as sp\n",
        "from sympy import *\n",
        "a,a0,a1,a2,a3,b,b0,b1,b2,b3,X1,X2,u1,u2,u3,u4,v1,v2,v3,v4 = symbols(\"a a_0 a_1 a_2 a_3 b b_0 b_1 b_2 b_3 X_1 X_2 u_1 u_2 u_3 u_4 v_1 v_2 v_3 v_4\")\n",
        "u = a0+a1*X1+a2*X2+a3*X1*X2\n",
        "v = b0+b1*X1+b2*X2+b3*X1*X2\n",
        "Coordinates = [{X1:-a,X2:-b},{X1:a,X2:-b},{X1:a,X2:b}, {X1:-a, X2:b}]\n",
        "display(\"Coordinates: \",Coordinates)\n",
        "Eq1 = u.subs(Coordinates[0])\n",
        "Eq2 = u.subs(Coordinates[1])\n",
        "Eq3 = u.subs(Coordinates[2])\n",
        "Eq4 = u.subs(Coordinates[3])\n",
        "Eq5 = v.subs(Coordinates[0])\n",
        "Eq6 = v.subs(Coordinates[1])\n",
        "Eq7 = v.subs(Coordinates[2])\n",
        "Eq8 = v.subs(Coordinates[3])\n",
        "s = solve((Eq1-u1,Eq2-u2,Eq3-u3,Eq4-u4,Eq5-v1,Eq6-v2, Eq7-v3, Eq8-v4),\n",
        "          (a0,a1,a2,a3,b0,b1,b2,b3))\n",
        "display(\"Solve: \",s)\n",
        "u = u.subs(s).expand()\n",
        "v = v.subs(s).expand()\n",
        "display(\"u =\",u,\"v =\",v)\n",
        "N1_u = u.coeff(u1)\n",
        "N1_v = v.coeff(v1)\n",
        "N2_u = u.coeff(u2)\n",
        "N2_v = v.coeff(v2)\n",
        "N3_u = u.coeff(u3)\n",
        "N3_v = v.coeff(v3)\n",
        "N4_u = u.coeff(u4)\n",
        "N4_v = v.coeff(v4)\n",
        "display(\"N1u1 =\",N1_u,\"N1v1 =\",N1_v,\"N2u2 =\",N2_u,\n",
        "        \"N2v2 =\",N2_v,\"N3u3 =\",N3_u,\"N3v3 =\",N3_v,\n",
        "        \"N4u4=\",N4_u,\"N4v4 =\",N4_v)"
      ],
      "metadata": {
        "colab": {
          "base_uri": "https://localhost:8080/",
          "height": 736
        },
        "id": "WLfvaspjkw6Q",
        "outputId": "523a68a4-2ab2-450f-ded6-f5e5867379c8"
      },
      "execution_count": 25,
      "outputs": [
        {
          "output_type": "display_data",
          "data": {
            "text/plain": [
              "'Coordinates: '"
            ],
            "application/vnd.google.colaboratory.intrinsic+json": {
              "type": "string"
            }
          },
          "metadata": {}
        },
        {
          "output_type": "display_data",
          "data": {
            "text/plain": [
              "[{X_1: -a, X_2: -b}, {X_1: a, X_2: -b}, {X_1: a, X_2: b}, {X_1: -a, X_2: b}]"
            ]
          },
          "metadata": {}
        },
        {
          "output_type": "display_data",
          "data": {
            "text/plain": [
              "'Solve: '"
            ],
            "application/vnd.google.colaboratory.intrinsic+json": {
              "type": "string"
            }
          },
          "metadata": {}
        },
        {
          "output_type": "display_data",
          "data": {
            "text/plain": [
              "{a_0: u_1/4 + u_2/4 + u_3/4 + u_4/4,\n",
              " a_1: (-u_1 + u_2 + u_3 - u_4)/(4*a),\n",
              " a_2: (-u_1 - u_2 + u_3 + u_4)/(4*b),\n",
              " a_3: (u_1 - u_2 + u_3 - u_4)/(4*a*b),\n",
              " b_0: v_1/4 + v_2/4 + v_3/4 + v_4/4,\n",
              " b_1: (-v_1 + v_2 + v_3 - v_4)/(4*a),\n",
              " b_2: (-v_1 - v_2 + v_3 + v_4)/(4*b),\n",
              " b_3: (v_1 - v_2 + v_3 - v_4)/(4*a*b)}"
            ]
          },
          "metadata": {}
        },
        {
          "output_type": "display_data",
          "data": {
            "text/plain": [
              "'u ='"
            ],
            "application/vnd.google.colaboratory.intrinsic+json": {
              "type": "string"
            }
          },
          "metadata": {}
        },
        {
          "output_type": "display_data",
          "data": {
            "text/plain": [
              "X_1*X_2*u_1/(4*a*b) - X_1*X_2*u_2/(4*a*b) + X_1*X_2*u_3/(4*a*b) - X_1*X_2*u_4/(4*a*b) - X_1*u_1/(4*a) + X_1*u_2/(4*a) + X_1*u_3/(4*a) - X_1*u_4/(4*a) - X_2*u_1/(4*b) - X_2*u_2/(4*b) + X_2*u_3/(4*b) + X_2*u_4/(4*b) + u_1/4 + u_2/4 + u_3/4 + u_4/4"
            ],
            "text/latex": "$\\displaystyle \\frac{X_{1} X_{2} u_{1}}{4 a b} - \\frac{X_{1} X_{2} u_{2}}{4 a b} + \\frac{X_{1} X_{2} u_{3}}{4 a b} - \\frac{X_{1} X_{2} u_{4}}{4 a b} - \\frac{X_{1} u_{1}}{4 a} + \\frac{X_{1} u_{2}}{4 a} + \\frac{X_{1} u_{3}}{4 a} - \\frac{X_{1} u_{4}}{4 a} - \\frac{X_{2} u_{1}}{4 b} - \\frac{X_{2} u_{2}}{4 b} + \\frac{X_{2} u_{3}}{4 b} + \\frac{X_{2} u_{4}}{4 b} + \\frac{u_{1}}{4} + \\frac{u_{2}}{4} + \\frac{u_{3}}{4} + \\frac{u_{4}}{4}$"
          },
          "metadata": {}
        },
        {
          "output_type": "display_data",
          "data": {
            "text/plain": [
              "'v ='"
            ],
            "application/vnd.google.colaboratory.intrinsic+json": {
              "type": "string"
            }
          },
          "metadata": {}
        },
        {
          "output_type": "display_data",
          "data": {
            "text/plain": [
              "X_1*X_2*v_1/(4*a*b) - X_1*X_2*v_2/(4*a*b) + X_1*X_2*v_3/(4*a*b) - X_1*X_2*v_4/(4*a*b) - X_1*v_1/(4*a) + X_1*v_2/(4*a) + X_1*v_3/(4*a) - X_1*v_4/(4*a) - X_2*v_1/(4*b) - X_2*v_2/(4*b) + X_2*v_3/(4*b) + X_2*v_4/(4*b) + v_1/4 + v_2/4 + v_3/4 + v_4/4"
            ],
            "text/latex": "$\\displaystyle \\frac{X_{1} X_{2} v_{1}}{4 a b} - \\frac{X_{1} X_{2} v_{2}}{4 a b} + \\frac{X_{1} X_{2} v_{3}}{4 a b} - \\frac{X_{1} X_{2} v_{4}}{4 a b} - \\frac{X_{1} v_{1}}{4 a} + \\frac{X_{1} v_{2}}{4 a} + \\frac{X_{1} v_{3}}{4 a} - \\frac{X_{1} v_{4}}{4 a} - \\frac{X_{2} v_{1}}{4 b} - \\frac{X_{2} v_{2}}{4 b} + \\frac{X_{2} v_{3}}{4 b} + \\frac{X_{2} v_{4}}{4 b} + \\frac{v_{1}}{4} + \\frac{v_{2}}{4} + \\frac{v_{3}}{4} + \\frac{v_{4}}{4}$"
          },
          "metadata": {}
        },
        {
          "output_type": "display_data",
          "data": {
            "text/plain": [
              "'N1u1 ='"
            ],
            "application/vnd.google.colaboratory.intrinsic+json": {
              "type": "string"
            }
          },
          "metadata": {}
        },
        {
          "output_type": "display_data",
          "data": {
            "text/plain": [
              "X_1*X_2/(4*a*b) - X_1/(4*a) - X_2/(4*b) + 1/4"
            ],
            "text/latex": "$\\displaystyle \\frac{X_{1} X_{2}}{4 a b} - \\frac{X_{1}}{4 a} - \\frac{X_{2}}{4 b} + \\frac{1}{4}$"
          },
          "metadata": {}
        },
        {
          "output_type": "display_data",
          "data": {
            "text/plain": [
              "'N1v1 ='"
            ],
            "application/vnd.google.colaboratory.intrinsic+json": {
              "type": "string"
            }
          },
          "metadata": {}
        },
        {
          "output_type": "display_data",
          "data": {
            "text/plain": [
              "X_1*X_2/(4*a*b) - X_1/(4*a) - X_2/(4*b) + 1/4"
            ],
            "text/latex": "$\\displaystyle \\frac{X_{1} X_{2}}{4 a b} - \\frac{X_{1}}{4 a} - \\frac{X_{2}}{4 b} + \\frac{1}{4}$"
          },
          "metadata": {}
        },
        {
          "output_type": "display_data",
          "data": {
            "text/plain": [
              "'N2u2 ='"
            ],
            "application/vnd.google.colaboratory.intrinsic+json": {
              "type": "string"
            }
          },
          "metadata": {}
        },
        {
          "output_type": "display_data",
          "data": {
            "text/plain": [
              "-X_1*X_2/(4*a*b) + X_1/(4*a) - X_2/(4*b) + 1/4"
            ],
            "text/latex": "$\\displaystyle - \\frac{X_{1} X_{2}}{4 a b} + \\frac{X_{1}}{4 a} - \\frac{X_{2}}{4 b} + \\frac{1}{4}$"
          },
          "metadata": {}
        },
        {
          "output_type": "display_data",
          "data": {
            "text/plain": [
              "'N2v2 ='"
            ],
            "application/vnd.google.colaboratory.intrinsic+json": {
              "type": "string"
            }
          },
          "metadata": {}
        },
        {
          "output_type": "display_data",
          "data": {
            "text/plain": [
              "-X_1*X_2/(4*a*b) + X_1/(4*a) - X_2/(4*b) + 1/4"
            ],
            "text/latex": "$\\displaystyle - \\frac{X_{1} X_{2}}{4 a b} + \\frac{X_{1}}{4 a} - \\frac{X_{2}}{4 b} + \\frac{1}{4}$"
          },
          "metadata": {}
        },
        {
          "output_type": "display_data",
          "data": {
            "text/plain": [
              "'N3u3 ='"
            ],
            "application/vnd.google.colaboratory.intrinsic+json": {
              "type": "string"
            }
          },
          "metadata": {}
        },
        {
          "output_type": "display_data",
          "data": {
            "text/plain": [
              "X_1*X_2/(4*a*b) + X_1/(4*a) + X_2/(4*b) + 1/4"
            ],
            "text/latex": "$\\displaystyle \\frac{X_{1} X_{2}}{4 a b} + \\frac{X_{1}}{4 a} + \\frac{X_{2}}{4 b} + \\frac{1}{4}$"
          },
          "metadata": {}
        },
        {
          "output_type": "display_data",
          "data": {
            "text/plain": [
              "'N3v3 ='"
            ],
            "application/vnd.google.colaboratory.intrinsic+json": {
              "type": "string"
            }
          },
          "metadata": {}
        },
        {
          "output_type": "display_data",
          "data": {
            "text/plain": [
              "X_1*X_2/(4*a*b) + X_1/(4*a) + X_2/(4*b) + 1/4"
            ],
            "text/latex": "$\\displaystyle \\frac{X_{1} X_{2}}{4 a b} + \\frac{X_{1}}{4 a} + \\frac{X_{2}}{4 b} + \\frac{1}{4}$"
          },
          "metadata": {}
        },
        {
          "output_type": "display_data",
          "data": {
            "text/plain": [
              "'N4u4='"
            ],
            "application/vnd.google.colaboratory.intrinsic+json": {
              "type": "string"
            }
          },
          "metadata": {}
        },
        {
          "output_type": "display_data",
          "data": {
            "text/plain": [
              "-X_1*X_2/(4*a*b) - X_1/(4*a) + X_2/(4*b) + 1/4"
            ],
            "text/latex": "$\\displaystyle - \\frac{X_{1} X_{2}}{4 a b} - \\frac{X_{1}}{4 a} + \\frac{X_{2}}{4 b} + \\frac{1}{4}$"
          },
          "metadata": {}
        },
        {
          "output_type": "display_data",
          "data": {
            "text/plain": [
              "'N4v4 ='"
            ],
            "application/vnd.google.colaboratory.intrinsic+json": {
              "type": "string"
            }
          },
          "metadata": {}
        },
        {
          "output_type": "display_data",
          "data": {
            "text/plain": [
              "-X_1*X_2/(4*a*b) - X_1/(4*a) + X_2/(4*b) + 1/4"
            ],
            "text/latex": "$\\displaystyle - \\frac{X_{1} X_{2}}{4 a b} - \\frac{X_{1}}{4 a} + \\frac{X_{2}}{4 b} + \\frac{1}{4}$"
          },
          "metadata": {}
        }
      ]
    },
    {
      "cell_type": "code",
      "source": [
        "import sympy as sp\n",
        "from sympy import *\n",
        "a, b, x1, x2, nu, E, t = symbols(\"a b x_1 x_2 nu E t\")\n",
        "Shapefun = Matrix([(b-x2)*(a-x1)/4/a/b,(b-x2)*(a+x1)/4/a/b,(b+x2)*(a+x1)/4/a/b,(b+x2)*(a-x1)/4/a/b])\n",
        "B = zeros(3,8)\n",
        "for i in range(4):\n",
        "    B[0,2*i] = B[2,2*i+1] = Shapefun[i].diff(x1)\n",
        "    B[1,2*i+1] = B[2,2*i] = Shapefun[i].diff(x2)\n",
        "display(\"B:\", B)\n",
        "Cc = E/(1 + nu)*Matrix([[(1-nu)/(1-2*nu),nu/(1-2*nu),0],\n",
        "                         [nu/(1-2*nu),(1-nu)/(1-2*nu), 0],\n",
        "                         [0, 0, 1/2]])\n",
        "KBeforeintegration = t * B.transpose()*Cc*B\n",
        "K = Matrix([[simplify(integrate(KBeforeintegration[i,j],(x1,-a,a),(x2,-b,b)))for i in range (8)] for j in range (8)])\n",
        "display(\"K: \", K)"
      ],
      "metadata": {
        "colab": {
          "base_uri": "https://localhost:8080/",
          "height": 384
        },
        "id": "zdy-vuEsls_t",
        "outputId": "2509928b-2484-4e4e-94f5-999126339819"
      },
      "execution_count": 26,
      "outputs": [
        {
          "output_type": "display_data",
          "data": {
            "text/plain": [
              "'B:'"
            ],
            "application/vnd.google.colaboratory.intrinsic+json": {
              "type": "string"
            }
          },
          "metadata": {}
        },
        {
          "output_type": "display_data",
          "data": {
            "text/plain": [
              "Matrix([\n",
              "[-(b - x_2)/(4*a*b),                  0,  (b - x_2)/(4*a*b),                  0, (b + x_2)/(4*a*b),                 0, -(b + x_2)/(4*a*b),                  0],\n",
              "[                 0, -(a - x_1)/(4*a*b),                  0, -(a + x_1)/(4*a*b),                 0, (a + x_1)/(4*a*b),                  0,  (a - x_1)/(4*a*b)],\n",
              "[-(a - x_1)/(4*a*b), -(b - x_2)/(4*a*b), -(a + x_1)/(4*a*b),  (b - x_2)/(4*a*b), (a + x_1)/(4*a*b), (b + x_2)/(4*a*b),  (a - x_1)/(4*a*b), -(b + x_2)/(4*a*b)]])"
            ],
            "text/latex": "$\\displaystyle \\left[\\begin{matrix}- \\frac{b - x_{2}}{4 a b} & 0 & \\frac{b - x_{2}}{4 a b} & 0 & \\frac{b + x_{2}}{4 a b} & 0 & - \\frac{b + x_{2}}{4 a b} & 0\\\\0 & - \\frac{a - x_{1}}{4 a b} & 0 & - \\frac{a + x_{1}}{4 a b} & 0 & \\frac{a + x_{1}}{4 a b} & 0 & \\frac{a - x_{1}}{4 a b}\\\\- \\frac{a - x_{1}}{4 a b} & - \\frac{b - x_{2}}{4 a b} & - \\frac{a + x_{1}}{4 a b} & \\frac{b - x_{2}}{4 a b} & \\frac{a + x_{1}}{4 a b} & \\frac{b + x_{2}}{4 a b} & \\frac{a - x_{1}}{4 a b} & - \\frac{b + x_{2}}{4 a b}\\end{matrix}\\right]$"
          },
          "metadata": {}
        },
        {
          "output_type": "display_data",
          "data": {
            "text/plain": [
              "'K: '"
            ],
            "application/vnd.google.colaboratory.intrinsic+json": {
              "type": "string"
            }
          },
          "metadata": {}
        },
        {
          "output_type": "display_data",
          "data": {
            "text/plain": [
              "Matrix([\n",
              "[E*t*(16.0*a**2*nu - 8.0*a**2 + 16.0*b**2*nu - 16.0*b**2)/(a*b*(96.0*nu**2 + 48.0*nu - 48.0)),                                                                   -2.0*E*t/(32.0*nu**2 + 16.0*nu - 16.0),  E*t*(8.0*a**2*nu - 4.0*a**2 - 16.0*b**2*nu + 16.0*b**2)/(a*b*(96.0*nu**2 + 48.0*nu - 48.0)),                                                         E*t*(2.0 - 8.0*nu)/(32.0*nu**2 + 16.0*nu - 16.0),   E*t*(-8.0*a**2*nu + 4.0*a**2 - 8.0*b**2*nu + 8.0*b**2)/(a*b*(96.0*nu**2 + 48.0*nu - 48.0)),                                                                    2.0*E*t/(32.0*nu**2 + 16.0*nu - 16.0),  E*t*(-16.0*a**2*nu + 8.0*a**2 + 8.0*b**2*nu - 8.0*b**2)/(a*b*(96.0*nu**2 + 48.0*nu - 48.0)),                                                         E*t*(8.0*nu - 2.0)/(32.0*nu**2 + 16.0*nu - 16.0)],\n",
              "[                                                      -2.0*E*t/(32.0*nu**2 + 16.0*nu - 16.0),  E*t*(512.0*a**2*nu - 512.0*a**2 + 512.0*b**2*nu - 256.0*b**2)/(a*b*(3072.0*nu**2 + 1536.0*nu - 1536.0)),                                             E*t*(8.0*nu - 2.0)/(32.0*nu**2 + 16.0*nu - 16.0),  E*t*(256.0*a**2*nu - 256.0*a**2 - 512.0*b**2*nu + 256.0*b**2)/(a*b*(3072.0*nu**2 + 1536.0*nu - 1536.0)),                                                        2.0*E*t/(32.0*nu**2 + 16.0*nu - 16.0), E*t*(-256.0*a**2*nu + 256.0*a**2 - 256.0*b**2*nu + 128.0*b**2)/(a*b*(3072.0*nu**2 + 1536.0*nu - 1536.0)),                                             E*t*(2.0 - 8.0*nu)/(32.0*nu**2 + 16.0*nu - 16.0), E*t*(-512.0*a**2*nu + 512.0*a**2 + 256.0*b**2*nu - 128.0*b**2)/(a*b*(3072.0*nu**2 + 1536.0*nu - 1536.0))],\n",
              "[ E*t*(8.0*a**2*nu - 4.0*a**2 - 16.0*b**2*nu + 16.0*b**2)/(a*b*(96.0*nu**2 + 48.0*nu - 48.0)),                                                         E*t*(8.0*nu - 2.0)/(32.0*nu**2 + 16.0*nu - 16.0), E*t*(16.0*a**2*nu - 8.0*a**2 + 16.0*b**2*nu - 16.0*b**2)/(a*b*(96.0*nu**2 + 48.0*nu - 48.0)),                                                                    2.0*E*t/(32.0*nu**2 + 16.0*nu - 16.0),  E*t*(-16.0*a**2*nu + 8.0*a**2 + 8.0*b**2*nu - 8.0*b**2)/(a*b*(96.0*nu**2 + 48.0*nu - 48.0)),                                                         E*t*(2.0 - 8.0*nu)/(32.0*nu**2 + 16.0*nu - 16.0),   E*t*(-8.0*a**2*nu + 4.0*a**2 - 8.0*b**2*nu + 8.0*b**2)/(a*b*(96.0*nu**2 + 48.0*nu - 48.0)),                                                                   -2.0*E*t/(32.0*nu**2 + 16.0*nu - 16.0)],\n",
              "[                                            E*t*(2.0 - 8.0*nu)/(32.0*nu**2 + 16.0*nu - 16.0),  E*t*(256.0*a**2*nu - 256.0*a**2 - 512.0*b**2*nu + 256.0*b**2)/(a*b*(3072.0*nu**2 + 1536.0*nu - 1536.0)),                                                        2.0*E*t/(32.0*nu**2 + 16.0*nu - 16.0),  E*t*(512.0*a**2*nu - 512.0*a**2 + 512.0*b**2*nu - 256.0*b**2)/(a*b*(3072.0*nu**2 + 1536.0*nu - 1536.0)),                                             E*t*(8.0*nu - 2.0)/(32.0*nu**2 + 16.0*nu - 16.0), E*t*(-512.0*a**2*nu + 512.0*a**2 + 256.0*b**2*nu - 128.0*b**2)/(a*b*(3072.0*nu**2 + 1536.0*nu - 1536.0)),                                                       -2.0*E*t/(32.0*nu**2 + 16.0*nu - 16.0), E*t*(-256.0*a**2*nu + 256.0*a**2 - 256.0*b**2*nu + 128.0*b**2)/(a*b*(3072.0*nu**2 + 1536.0*nu - 1536.0))],\n",
              "[  E*t*(-8.0*a**2*nu + 4.0*a**2 - 8.0*b**2*nu + 8.0*b**2)/(a*b*(96.0*nu**2 + 48.0*nu - 48.0)),                                                                    2.0*E*t/(32.0*nu**2 + 16.0*nu - 16.0),  E*t*(-16.0*a**2*nu + 8.0*a**2 + 8.0*b**2*nu - 8.0*b**2)/(a*b*(96.0*nu**2 + 48.0*nu - 48.0)),                                                         E*t*(8.0*nu - 2.0)/(32.0*nu**2 + 16.0*nu - 16.0), E*t*(16.0*a**2*nu - 8.0*a**2 + 16.0*b**2*nu - 16.0*b**2)/(a*b*(96.0*nu**2 + 48.0*nu - 48.0)),                                                                   -2.0*E*t/(32.0*nu**2 + 16.0*nu - 16.0),  E*t*(8.0*a**2*nu - 4.0*a**2 - 16.0*b**2*nu + 16.0*b**2)/(a*b*(96.0*nu**2 + 48.0*nu - 48.0)),                                                         E*t*(2.0 - 8.0*nu)/(32.0*nu**2 + 16.0*nu - 16.0)],\n",
              "[                                                       2.0*E*t/(32.0*nu**2 + 16.0*nu - 16.0), E*t*(-256.0*a**2*nu + 256.0*a**2 - 256.0*b**2*nu + 128.0*b**2)/(a*b*(3072.0*nu**2 + 1536.0*nu - 1536.0)),                                             E*t*(2.0 - 8.0*nu)/(32.0*nu**2 + 16.0*nu - 16.0), E*t*(-512.0*a**2*nu + 512.0*a**2 + 256.0*b**2*nu - 128.0*b**2)/(a*b*(3072.0*nu**2 + 1536.0*nu - 1536.0)),                                                       -2.0*E*t/(32.0*nu**2 + 16.0*nu - 16.0),  E*t*(512.0*a**2*nu - 512.0*a**2 + 512.0*b**2*nu - 256.0*b**2)/(a*b*(3072.0*nu**2 + 1536.0*nu - 1536.0)),                                             E*t*(8.0*nu - 2.0)/(32.0*nu**2 + 16.0*nu - 16.0),  E*t*(256.0*a**2*nu - 256.0*a**2 - 512.0*b**2*nu + 256.0*b**2)/(a*b*(3072.0*nu**2 + 1536.0*nu - 1536.0))],\n",
              "[ E*t*(-16.0*a**2*nu + 8.0*a**2 + 8.0*b**2*nu - 8.0*b**2)/(a*b*(96.0*nu**2 + 48.0*nu - 48.0)),                                                         E*t*(2.0 - 8.0*nu)/(32.0*nu**2 + 16.0*nu - 16.0),   E*t*(-8.0*a**2*nu + 4.0*a**2 - 8.0*b**2*nu + 8.0*b**2)/(a*b*(96.0*nu**2 + 48.0*nu - 48.0)),                                                                   -2.0*E*t/(32.0*nu**2 + 16.0*nu - 16.0),  E*t*(8.0*a**2*nu - 4.0*a**2 - 16.0*b**2*nu + 16.0*b**2)/(a*b*(96.0*nu**2 + 48.0*nu - 48.0)),                                                         E*t*(8.0*nu - 2.0)/(32.0*nu**2 + 16.0*nu - 16.0), E*t*(16.0*a**2*nu - 8.0*a**2 + 16.0*b**2*nu - 16.0*b**2)/(a*b*(96.0*nu**2 + 48.0*nu - 48.0)),                                                                    2.0*E*t/(32.0*nu**2 + 16.0*nu - 16.0)],\n",
              "[                                            E*t*(8.0*nu - 2.0)/(32.0*nu**2 + 16.0*nu - 16.0), E*t*(-512.0*a**2*nu + 512.0*a**2 + 256.0*b**2*nu - 128.0*b**2)/(a*b*(3072.0*nu**2 + 1536.0*nu - 1536.0)),                                                       -2.0*E*t/(32.0*nu**2 + 16.0*nu - 16.0), E*t*(-256.0*a**2*nu + 256.0*a**2 - 256.0*b**2*nu + 128.0*b**2)/(a*b*(3072.0*nu**2 + 1536.0*nu - 1536.0)),                                             E*t*(2.0 - 8.0*nu)/(32.0*nu**2 + 16.0*nu - 16.0),  E*t*(256.0*a**2*nu - 256.0*a**2 - 512.0*b**2*nu + 256.0*b**2)/(a*b*(3072.0*nu**2 + 1536.0*nu - 1536.0)),                                                        2.0*E*t/(32.0*nu**2 + 16.0*nu - 16.0),  E*t*(512.0*a**2*nu - 512.0*a**2 + 512.0*b**2*nu - 256.0*b**2)/(a*b*(3072.0*nu**2 + 1536.0*nu - 1536.0))]])"
            ],
            "text/latex": "$\\displaystyle \\left[\\begin{matrix}\\frac{E t \\left(16.0 a^{2} \\nu - 8.0 a^{2} + 16.0 b^{2} \\nu - 16.0 b^{2}\\right)}{a b \\left(96.0 \\nu^{2} + 48.0 \\nu - 48.0\\right)} & - \\frac{2.0 E t}{32.0 \\nu^{2} + 16.0 \\nu - 16.0} & \\frac{E t \\left(8.0 a^{2} \\nu - 4.0 a^{2} - 16.0 b^{2} \\nu + 16.0 b^{2}\\right)}{a b \\left(96.0 \\nu^{2} + 48.0 \\nu - 48.0\\right)} & \\frac{E t \\left(2.0 - 8.0 \\nu\\right)}{32.0 \\nu^{2} + 16.0 \\nu - 16.0} & \\frac{E t \\left(- 8.0 a^{2} \\nu + 4.0 a^{2} - 8.0 b^{2} \\nu + 8.0 b^{2}\\right)}{a b \\left(96.0 \\nu^{2} + 48.0 \\nu - 48.0\\right)} & \\frac{2.0 E t}{32.0 \\nu^{2} + 16.0 \\nu - 16.0} & \\frac{E t \\left(- 16.0 a^{2} \\nu + 8.0 a^{2} + 8.0 b^{2} \\nu - 8.0 b^{2}\\right)}{a b \\left(96.0 \\nu^{2} + 48.0 \\nu - 48.0\\right)} & \\frac{E t \\left(8.0 \\nu - 2.0\\right)}{32.0 \\nu^{2} + 16.0 \\nu - 16.0}\\\\- \\frac{2.0 E t}{32.0 \\nu^{2} + 16.0 \\nu - 16.0} & \\frac{E t \\left(512.0 a^{2} \\nu - 512.0 a^{2} + 512.0 b^{2} \\nu - 256.0 b^{2}\\right)}{a b \\left(3072.0 \\nu^{2} + 1536.0 \\nu - 1536.0\\right)} & \\frac{E t \\left(8.0 \\nu - 2.0\\right)}{32.0 \\nu^{2} + 16.0 \\nu - 16.0} & \\frac{E t \\left(256.0 a^{2} \\nu - 256.0 a^{2} - 512.0 b^{2} \\nu + 256.0 b^{2}\\right)}{a b \\left(3072.0 \\nu^{2} + 1536.0 \\nu - 1536.0\\right)} & \\frac{2.0 E t}{32.0 \\nu^{2} + 16.0 \\nu - 16.0} & \\frac{E t \\left(- 256.0 a^{2} \\nu + 256.0 a^{2} - 256.0 b^{2} \\nu + 128.0 b^{2}\\right)}{a b \\left(3072.0 \\nu^{2} + 1536.0 \\nu - 1536.0\\right)} & \\frac{E t \\left(2.0 - 8.0 \\nu\\right)}{32.0 \\nu^{2} + 16.0 \\nu - 16.0} & \\frac{E t \\left(- 512.0 a^{2} \\nu + 512.0 a^{2} + 256.0 b^{2} \\nu - 128.0 b^{2}\\right)}{a b \\left(3072.0 \\nu^{2} + 1536.0 \\nu - 1536.0\\right)}\\\\\\frac{E t \\left(8.0 a^{2} \\nu - 4.0 a^{2} - 16.0 b^{2} \\nu + 16.0 b^{2}\\right)}{a b \\left(96.0 \\nu^{2} + 48.0 \\nu - 48.0\\right)} & \\frac{E t \\left(8.0 \\nu - 2.0\\right)}{32.0 \\nu^{2} + 16.0 \\nu - 16.0} & \\frac{E t \\left(16.0 a^{2} \\nu - 8.0 a^{2} + 16.0 b^{2} \\nu - 16.0 b^{2}\\right)}{a b \\left(96.0 \\nu^{2} + 48.0 \\nu - 48.0\\right)} & \\frac{2.0 E t}{32.0 \\nu^{2} + 16.0 \\nu - 16.0} & \\frac{E t \\left(- 16.0 a^{2} \\nu + 8.0 a^{2} + 8.0 b^{2} \\nu - 8.0 b^{2}\\right)}{a b \\left(96.0 \\nu^{2} + 48.0 \\nu - 48.0\\right)} & \\frac{E t \\left(2.0 - 8.0 \\nu\\right)}{32.0 \\nu^{2} + 16.0 \\nu - 16.0} & \\frac{E t \\left(- 8.0 a^{2} \\nu + 4.0 a^{2} - 8.0 b^{2} \\nu + 8.0 b^{2}\\right)}{a b \\left(96.0 \\nu^{2} + 48.0 \\nu - 48.0\\right)} & - \\frac{2.0 E t}{32.0 \\nu^{2} + 16.0 \\nu - 16.0}\\\\\\frac{E t \\left(2.0 - 8.0 \\nu\\right)}{32.0 \\nu^{2} + 16.0 \\nu - 16.0} & \\frac{E t \\left(256.0 a^{2} \\nu - 256.0 a^{2} - 512.0 b^{2} \\nu + 256.0 b^{2}\\right)}{a b \\left(3072.0 \\nu^{2} + 1536.0 \\nu - 1536.0\\right)} & \\frac{2.0 E t}{32.0 \\nu^{2} + 16.0 \\nu - 16.0} & \\frac{E t \\left(512.0 a^{2} \\nu - 512.0 a^{2} + 512.0 b^{2} \\nu - 256.0 b^{2}\\right)}{a b \\left(3072.0 \\nu^{2} + 1536.0 \\nu - 1536.0\\right)} & \\frac{E t \\left(8.0 \\nu - 2.0\\right)}{32.0 \\nu^{2} + 16.0 \\nu - 16.0} & \\frac{E t \\left(- 512.0 a^{2} \\nu + 512.0 a^{2} + 256.0 b^{2} \\nu - 128.0 b^{2}\\right)}{a b \\left(3072.0 \\nu^{2} + 1536.0 \\nu - 1536.0\\right)} & - \\frac{2.0 E t}{32.0 \\nu^{2} + 16.0 \\nu - 16.0} & \\frac{E t \\left(- 256.0 a^{2} \\nu + 256.0 a^{2} - 256.0 b^{2} \\nu + 128.0 b^{2}\\right)}{a b \\left(3072.0 \\nu^{2} + 1536.0 \\nu - 1536.0\\right)}\\\\\\frac{E t \\left(- 8.0 a^{2} \\nu + 4.0 a^{2} - 8.0 b^{2} \\nu + 8.0 b^{2}\\right)}{a b \\left(96.0 \\nu^{2} + 48.0 \\nu - 48.0\\right)} & \\frac{2.0 E t}{32.0 \\nu^{2} + 16.0 \\nu - 16.0} & \\frac{E t \\left(- 16.0 a^{2} \\nu + 8.0 a^{2} + 8.0 b^{2} \\nu - 8.0 b^{2}\\right)}{a b \\left(96.0 \\nu^{2} + 48.0 \\nu - 48.0\\right)} & \\frac{E t \\left(8.0 \\nu - 2.0\\right)}{32.0 \\nu^{2} + 16.0 \\nu - 16.0} & \\frac{E t \\left(16.0 a^{2} \\nu - 8.0 a^{2} + 16.0 b^{2} \\nu - 16.0 b^{2}\\right)}{a b \\left(96.0 \\nu^{2} + 48.0 \\nu - 48.0\\right)} & - \\frac{2.0 E t}{32.0 \\nu^{2} + 16.0 \\nu - 16.0} & \\frac{E t \\left(8.0 a^{2} \\nu - 4.0 a^{2} - 16.0 b^{2} \\nu + 16.0 b^{2}\\right)}{a b \\left(96.0 \\nu^{2} + 48.0 \\nu - 48.0\\right)} & \\frac{E t \\left(2.0 - 8.0 \\nu\\right)}{32.0 \\nu^{2} + 16.0 \\nu - 16.0}\\\\\\frac{2.0 E t}{32.0 \\nu^{2} + 16.0 \\nu - 16.0} & \\frac{E t \\left(- 256.0 a^{2} \\nu + 256.0 a^{2} - 256.0 b^{2} \\nu + 128.0 b^{2}\\right)}{a b \\left(3072.0 \\nu^{2} + 1536.0 \\nu - 1536.0\\right)} & \\frac{E t \\left(2.0 - 8.0 \\nu\\right)}{32.0 \\nu^{2} + 16.0 \\nu - 16.0} & \\frac{E t \\left(- 512.0 a^{2} \\nu + 512.0 a^{2} + 256.0 b^{2} \\nu - 128.0 b^{2}\\right)}{a b \\left(3072.0 \\nu^{2} + 1536.0 \\nu - 1536.0\\right)} & - \\frac{2.0 E t}{32.0 \\nu^{2} + 16.0 \\nu - 16.0} & \\frac{E t \\left(512.0 a^{2} \\nu - 512.0 a^{2} + 512.0 b^{2} \\nu - 256.0 b^{2}\\right)}{a b \\left(3072.0 \\nu^{2} + 1536.0 \\nu - 1536.0\\right)} & \\frac{E t \\left(8.0 \\nu - 2.0\\right)}{32.0 \\nu^{2} + 16.0 \\nu - 16.0} & \\frac{E t \\left(256.0 a^{2} \\nu - 256.0 a^{2} - 512.0 b^{2} \\nu + 256.0 b^{2}\\right)}{a b \\left(3072.0 \\nu^{2} + 1536.0 \\nu - 1536.0\\right)}\\\\\\frac{E t \\left(- 16.0 a^{2} \\nu + 8.0 a^{2} + 8.0 b^{2} \\nu - 8.0 b^{2}\\right)}{a b \\left(96.0 \\nu^{2} + 48.0 \\nu - 48.0\\right)} & \\frac{E t \\left(2.0 - 8.0 \\nu\\right)}{32.0 \\nu^{2} + 16.0 \\nu - 16.0} & \\frac{E t \\left(- 8.0 a^{2} \\nu + 4.0 a^{2} - 8.0 b^{2} \\nu + 8.0 b^{2}\\right)}{a b \\left(96.0 \\nu^{2} + 48.0 \\nu - 48.0\\right)} & - \\frac{2.0 E t}{32.0 \\nu^{2} + 16.0 \\nu - 16.0} & \\frac{E t \\left(8.0 a^{2} \\nu - 4.0 a^{2} - 16.0 b^{2} \\nu + 16.0 b^{2}\\right)}{a b \\left(96.0 \\nu^{2} + 48.0 \\nu - 48.0\\right)} & \\frac{E t \\left(8.0 \\nu - 2.0\\right)}{32.0 \\nu^{2} + 16.0 \\nu - 16.0} & \\frac{E t \\left(16.0 a^{2} \\nu - 8.0 a^{2} + 16.0 b^{2} \\nu - 16.0 b^{2}\\right)}{a b \\left(96.0 \\nu^{2} + 48.0 \\nu - 48.0\\right)} & \\frac{2.0 E t}{32.0 \\nu^{2} + 16.0 \\nu - 16.0}\\\\\\frac{E t \\left(8.0 \\nu - 2.0\\right)}{32.0 \\nu^{2} + 16.0 \\nu - 16.0} & \\frac{E t \\left(- 512.0 a^{2} \\nu + 512.0 a^{2} + 256.0 b^{2} \\nu - 128.0 b^{2}\\right)}{a b \\left(3072.0 \\nu^{2} + 1536.0 \\nu - 1536.0\\right)} & - \\frac{2.0 E t}{32.0 \\nu^{2} + 16.0 \\nu - 16.0} & \\frac{E t \\left(- 256.0 a^{2} \\nu + 256.0 a^{2} - 256.0 b^{2} \\nu + 128.0 b^{2}\\right)}{a b \\left(3072.0 \\nu^{2} + 1536.0 \\nu - 1536.0\\right)} & \\frac{E t \\left(2.0 - 8.0 \\nu\\right)}{32.0 \\nu^{2} + 16.0 \\nu - 16.0} & \\frac{E t \\left(256.0 a^{2} \\nu - 256.0 a^{2} - 512.0 b^{2} \\nu + 256.0 b^{2}\\right)}{a b \\left(3072.0 \\nu^{2} + 1536.0 \\nu - 1536.0\\right)} & \\frac{2.0 E t}{32.0 \\nu^{2} + 16.0 \\nu - 16.0} & \\frac{E t \\left(512.0 a^{2} \\nu - 512.0 a^{2} + 512.0 b^{2} \\nu - 256.0 b^{2}\\right)}{a b \\left(3072.0 \\nu^{2} + 1536.0 \\nu - 1536.0\\right)}\\end{matrix}\\right]$"
          },
          "metadata": {}
        }
      ]
    },
    {
      "cell_type": "code",
      "source": [
        "from sympy import *\n",
        "import sympy as sp\n",
        "xi, x1, x2, x3, EA, p = sp.symbols(\"xi x_1 x_2 x_3 EA p\")\n",
        "N1 = -xi*(1-xi)/sp.sympify('2')\n",
        "N2 = (1-xi)*(1+xi)\n",
        "N3 = xi*(1+xi)/sp.sympify('2')\n",
        "display(\"Shape Functions:\", N1,N2,N3)\n",
        "x = N1*x1+N2*x2+N3*x3\n",
        "dxxi = x.diff(xi)\n",
        "dxix = 1/dxxi\n",
        "x = x.subs({x1:0,x2:4.5,x3:10})\n",
        "display(\"Mapping Function: \", x)\n",
        "B = Matrix([N1.diff(xi), N2.diff(xi), N3.diff(xi)])\n",
        "K1 = EA * dxix * B.transpose()*B\n",
        "Kb = integrate(K1, (xi,-1,1))\n",
        "a = integrate(p*N1*dxxi, (xi,-1,1))\n",
        "b = integrate(p*N2*dxxi, (xi,-1,1))\n",
        "c = integrate(p*N3*dxxi, (xi,-1,1))\n",
        "ff = Matrix([a,b,c]).subs({x1:0,x2:9/sp.sympify('2'),x3:10})\n",
        "display(\"Nodal forces: \",ff)"
      ],
      "metadata": {
        "colab": {
          "base_uri": "https://localhost:8080/",
          "height": 248
        },
        "id": "5m6F0teVo4lH",
        "outputId": "a567865d-48ee-4036-aafc-aa59f4bd09cb"
      },
      "execution_count": 27,
      "outputs": [
        {
          "output_type": "display_data",
          "data": {
            "text/plain": [
              "'Shape Functions:'"
            ],
            "application/vnd.google.colaboratory.intrinsic+json": {
              "type": "string"
            }
          },
          "metadata": {}
        },
        {
          "output_type": "display_data",
          "data": {
            "text/plain": [
              "-xi*(1 - xi)/2"
            ],
            "text/latex": "$\\displaystyle - \\frac{\\xi \\left(1 - \\xi\\right)}{2}$"
          },
          "metadata": {}
        },
        {
          "output_type": "display_data",
          "data": {
            "text/plain": [
              "(1 - xi)*(xi + 1)"
            ],
            "text/latex": "$\\displaystyle \\left(1 - \\xi\\right) \\left(\\xi + 1\\right)$"
          },
          "metadata": {}
        },
        {
          "output_type": "display_data",
          "data": {
            "text/plain": [
              "xi*(xi + 1)/2"
            ],
            "text/latex": "$\\displaystyle \\frac{\\xi \\left(\\xi + 1\\right)}{2}$"
          },
          "metadata": {}
        },
        {
          "output_type": "display_data",
          "data": {
            "text/plain": [
              "'Mapping Function: '"
            ],
            "application/vnd.google.colaboratory.intrinsic+json": {
              "type": "string"
            }
          },
          "metadata": {}
        },
        {
          "output_type": "display_data",
          "data": {
            "text/plain": [
              "5*xi*(xi + 1) + 4.5*(1 - xi)*(xi + 1)"
            ],
            "text/latex": "$\\displaystyle 5 \\xi \\left(\\xi + 1\\right) + 4.5 \\cdot \\left(1 - \\xi\\right) \\left(\\xi + 1\\right)$"
          },
          "metadata": {}
        },
        {
          "output_type": "display_data",
          "data": {
            "text/plain": [
              "'Nodal forces: '"
            ],
            "application/vnd.google.colaboratory.intrinsic+json": {
              "type": "string"
            }
          },
          "metadata": {}
        },
        {
          "output_type": "display_data",
          "data": {
            "text/plain": [
              "Matrix([\n",
              "[ 4*p/3],\n",
              "[20*p/3],\n",
              "[   2*p]])"
            ],
            "text/latex": "$\\displaystyle \\left[\\begin{matrix}\\frac{4 p}{3}\\\\\\frac{20 p}{3}\\\\2 p\\end{matrix}\\right]$"
          },
          "metadata": {}
        }
      ]
    },
    {
      "cell_type": "code",
      "source": [
        "from sympy import *\n",
        "from mpmath import *\n",
        "import sympy as sp\n",
        "import scipy as sc\n",
        "import matplotlib.pyplot as plt\n",
        "from scipy.integrate import dblquad\n",
        "xi, eta, rb1, rb2 = sp.symbols(\"xi eta rb_1 rb_2\")\n",
        "coordinates = Matrix([[0,0],[1,0.1],[1.2,1.2],[0.2,1]])\n",
        "t = 1\n",
        "display(\"Plane Stress\")\n",
        "E = 1\n",
        "nu = 0\n",
        "Cc = E/(1+nu)/(1-nu)*Matrix([[1,nu,0],[nu,1,0],[0,0,(1-nu)/2]])\n",
        "a = coordinates.row_insert(4, Matrix([[0,0]]))\n",
        "fig = plt.figure()\n",
        "ax = fig.add_subplot(111)\n",
        "cp = ax.plot(a[:,0], a[:,1])\n",
        "ax.grid(True, which='both')\n",
        "plt.xlabel(\"x\")\n",
        "plt.ylabel(\"y\")\n",
        "plt.title(\"Shape\")\n",
        "ax.axhline(y = 0, color = 'k')\n",
        "ax.axvline(x = 0, color = 'k')\n",
        "Shapefun = Matrix([[(1-xi)*(1-eta)],[(1+xi)*(1-eta)],\n",
        "                   [(1+xi)*(1+eta)],[(1-xi)*(1+eta)]])/4\n",
        "Nn = Matrix([[0 for x in range(8)] for y in range(2)])\n",
        "for i in range(4):\n",
        "    Nn[0,2*i] = Nn[1,2*i+1] = Shapefun[i]\n",
        "x = sum([Shapefun[i]*coordinates[i,0] for i in range(4)])\n",
        "y = sum([Shapefun[i]*coordinates[i,1] for i in range(4)])\n",
        "J = Matrix([[x.diff(xi), x.diff(eta)],[y.diff(xi),y.diff(eta)]])\n",
        "JinvT = J.inv().transpose()\n",
        "mat1 = Matrix([[1,0,0,0],[0,0,0,1],[0,1,1,0]])\n",
        "mat2 = Matrix([[JinvT[0,0],JinvT[0,1],0,0],\n",
        "               [JinvT[1,0],JinvT[1,1],0,0],\n",
        "               [0,0,JinvT[0,0],JinvT[0,1]],\n",
        "               [0,0,JinvT[1,0],JinvT[1,1]]])\n",
        "mat3 = Matrix([[0 for x in range(8)] for y in range(4)])\n",
        "for i in range(4):\n",
        "    mat3[0,2*i] = mat3[2,2*i+1] = sp.diff(Shapefun[i],xi)\n",
        "    mat3[1,2*i] = mat3[3,2*i+1] = sp.diff(Shapefun[i],eta)\n",
        "B = mat1*mat2*mat3\n",
        "k1 = B.transpose()*Cc*B\n",
        "K = zeros(8)\n",
        "for i in range(8):\n",
        "    for j in range(8):\n",
        "        integrand=k1[i,j]*J.det()\n",
        "        intlam=lambdify((eta,xi),integrand)\n",
        "        #mp.dps is for integral accuracy (# of decimal points)\n",
        "        mp.dps = 3\n",
        "        K[i,j] = quad(intlam,[-1,1],[-1,1])\n",
        "# Scipy method, results in ZeroDivsionError\n",
        "# K = sc.zeros(k1.shape, dtype = float)\n",
        "# for (i,j), expr in sc.ndenumerate(k1):\n",
        "#     tmp = sp.lambdify((xi, eta), expr*J.det(), 'math')\n",
        "#     K[i,j] = dblquad(tmp, -1, 1, lambda xi: -1, lambda xi:1)[0]\n",
        "display(K)\n",
        "rb = Matrix([rb1,rb2])\n",
        "fbeforeintegration = Nn.transpose()*rb*J.det()\n",
        "f3 = Matrix([integrate(fbeforeintegration[i],(xi,-1,1),(eta,-1,1))for i in range(8)])\n",
        "display(\"Nodal Forces: \", f3)"
      ],
      "metadata": {
        "colab": {
          "base_uri": "https://localhost:8080/",
          "height": 824
        },
        "id": "DDc_jcEvqiAL",
        "outputId": "905f4c7d-1366-4e0e-8c27-5687c4ed9dd6"
      },
      "execution_count": 28,
      "outputs": [
        {
          "output_type": "display_data",
          "data": {
            "text/plain": [
              "'Plane Stress'"
            ],
            "application/vnd.google.colaboratory.intrinsic+json": {
              "type": "string"
            }
          },
          "metadata": {}
        },
        {
          "output_type": "display_data",
          "data": {
            "text/plain": [
              "matrix(\n",
              "[['0.422', '0.0723', '-0.279', '-0.103', '-0.143', '-0.103', '-0.000994', '0.134'],\n",
              " ['0.0723', '0.398', '0.147', '-0.0253', '-0.103', '-0.125', '-0.116', '-0.247'],\n",
              " ['-0.279', '0.147', '0.649', '-0.19', '0.0254', '-0.119', '-0.395', '0.162'],\n",
              " ['-0.103', '-0.0253', '-0.19', '0.646', '0.131', '-0.221', '0.162', '-0.399'],\n",
              " ['-0.143', '-0.103', '0.0254', '0.131', '0.401', '0.0746', '-0.284', '-0.103'],\n",
              " ['-0.103', '-0.125', '-0.119', '-0.221', '0.0746', '0.377', '0.147', '-0.0304'],\n",
              " ['-0.000994', '-0.116', '-0.395', '0.162', '-0.284', '0.147', '0.68', '-0.193'],\n",
              " ['0.134', '-0.247', '0.162', '-0.399', '-0.103', '-0.0304', '-0.193', '0.676']])"
            ]
          },
          "metadata": {}
        },
        {
          "output_type": "display_data",
          "data": {
            "text/plain": [
              "'Nodal Forces: '"
            ],
            "application/vnd.google.colaboratory.intrinsic+json": {
              "type": "string"
            }
          },
          "metadata": {}
        },
        {
          "output_type": "display_data",
          "data": {
            "text/plain": [
              "Matrix([\n",
              "[0.251666666666667*rb_1],\n",
              "[0.251666666666667*rb_2],\n",
              "[             0.26*rb_1],\n",
              "[             0.26*rb_2],\n",
              "[0.258333333333333*rb_1],\n",
              "[0.258333333333333*rb_2],\n",
              "[             0.25*rb_1],\n",
              "[             0.25*rb_2]])"
            ],
            "text/latex": "$\\displaystyle \\left[\\begin{matrix}0.251666666666667 rb_{1}\\\\0.251666666666667 rb_{2}\\\\0.26 rb_{1}\\\\0.26 rb_{2}\\\\0.258333333333333 rb_{1}\\\\0.258333333333333 rb_{2}\\\\0.25 rb_{1}\\\\0.25 rb_{2}\\end{matrix}\\right]$"
          },
          "metadata": {}
        },
        {
          "output_type": "display_data",
          "data": {
            "text/plain": [
              "<Figure size 640x480 with 1 Axes>"
            ],
            "image/png": "[encoded data removed]"
          },
          "metadata": {}
        }
      ]
    },
    {
      "cell_type": "markdown",
      "source": [],
      "metadata": {
        "id": "iPAtcfRJo4QL"
      }
    }
  ]
}