{
  "nbformat": 4,
  "nbformat_minor": 0,
  "metadata": {
    "colab": {
      "provenance": []
    },
    "kernelspec": {
      "name": "python3",
      "display_name": "Python 3"
    },
    "language_info": {
      "name": "python"
    }
  },
  "cells": [
    {
      "cell_type": "code",
      "source": [
        "import sympy as sp\n",
        "from sympy import solve,Matrix,diff,integrate\n",
        "a0,a1,x,L,EA,p = sp.symbols(\"a_0 a_1 x L EA p\")\n",
        "u1,u2,u3 = sp.symbols(\"u_1 u_2 u_3\")\n",
        "u = a0+a1*x\n",
        "display(\"linear Form of Displacement:\")\n",
        "display(\"u =\", u)\n",
        "eq1 = u.subs({x:0})\n",
        "eq2 = u.subs({x:L})\n",
        "s = solve((eq1-u1,eq2-u2),a0,a1)\n",
        "display(\"Solve\")\n",
        "display(\"a_0 =\",s[a0],\"a_1 =\",s[a1])\n",
        "u = u.subs(s).expand()\n",
        "display(\"Rearranging\")\n",
        "display(\"u =\",u)\n",
        "N1 = u.coeff(u1)\n",
        "N2 = u.coeff(u2)\n",
        "display(\"Shape Functions\")\n",
        "B = Matrix([[diff(N1,x),diff(N2,x)]])\n",
        "display(\"B =\",B.T)\n",
        "K = EA*Matrix([[integrate(B[i]*B[j], (x,0,L)) for i in range(2)] for j in range(2)])\n",
        "display(\"K^e =\",K)\n",
        "Nn = Matrix([[N1,N2]]).T\n",
        "display(\"N =\",Nn)\n",
        "# fe = Matrix([q*integrate(Nn[i],(x,0,L))for i in range(2)]) # sum with punctual if q\n",
        "fe= Matrix([0, p])\n",
        "display(\"Nodal Force Vector\")\n",
        "display(\"f^e =\",fe)\n"
      ],
      "metadata": {
        "colab": {
          "base_uri": "https://localhost:8080/",
          "height": 524
        },
        "id": "m8ozW_BCnewj",
        "outputId": "b5a3e810-4d32-4b4c-e012-ebab796d4800"
      },
      "execution_count": 71,
      "outputs": [
        {
          "output_type": "display_data",
          "data": {
            "text/plain": [
              "'linear Form of Displacement:'"
            ],
            "application/vnd.google.colaboratory.intrinsic+json": {
              "type": "string"
            }
          },
          "metadata": {}
        },
        {
          "output_type": "display_data",
          "data": {
            "text/plain": [
              "'u ='"
            ],
            "application/vnd.google.colaboratory.intrinsic+json": {
              "type": "string"
            }
          },
          "metadata": {}
        },
        {
          "output_type": "display_data",
          "data": {
            "text/plain": [
              "a_0 + a_1*x"
            ],
            "text/latex": "$\\displaystyle a_{0} + a_{1} x$"
          },
          "metadata": {}
        },
        {
          "output_type": "display_data",
          "data": {
            "text/plain": [
              "'Solve'"
            ],
            "application/vnd.google.colaboratory.intrinsic+json": {
              "type": "string"
            }
          },
          "metadata": {}
        },
        {
          "output_type": "display_data",
          "data": {
            "text/plain": [
              "'a_0 ='"
            ],
            "application/vnd.google.colaboratory.intrinsic+json": {
              "type": "string"
            }
          },
          "metadata": {}
        },
        {
          "output_type": "display_data",
          "data": {
            "text/plain": [
              "u_1"
            ],
            "text/latex": "$\\displaystyle u_{1}$"
          },
          "metadata": {}
        },
        {
          "output_type": "display_data",
          "data": {
            "text/plain": [
              "'a_1 ='"
            ],
            "application/vnd.google.colaboratory.intrinsic+json": {
              "type": "string"
            }
          },
          "metadata": {}
        },
        {
          "output_type": "display_data",
          "data": {
            "text/plain": [
              "(-u_1 + u_2)/L"
            ],
            "text/latex": "$\\displaystyle \\frac{- u_{1} + u_{2}}{L}$"
          },
          "metadata": {}
        },
        {
          "output_type": "display_data",
          "data": {
            "text/plain": [
              "'Rearranging'"
            ],
            "application/vnd.google.colaboratory.intrinsic+json": {
              "type": "string"
            }
          },
          "metadata": {}
        },
        {
          "output_type": "display_data",
          "data": {
            "text/plain": [
              "'u ='"
            ],
            "application/vnd.google.colaboratory.intrinsic+json": {
              "type": "string"
            }
          },
          "metadata": {}
        },
        {
          "output_type": "display_data",
          "data": {
            "text/plain": [
              "u_1 - u_1*x/L + u_2*x/L"
            ],
            "text/latex": "$\\displaystyle u_{1} - \\frac{u_{1} x}{L} + \\frac{u_{2} x}{L}$"
          },
          "metadata": {}
        },
        {
          "output_type": "display_data",
          "data": {
            "text/plain": [
              "'Shape Functions'"
            ],
            "application/vnd.google.colaboratory.intrinsic+json": {
              "type": "string"
            }
          },
          "metadata": {}
        },
        {
          "output_type": "display_data",
          "data": {
            "text/plain": [
              "'B ='"
            ],
            "application/vnd.google.colaboratory.intrinsic+json": {
              "type": "string"
            }
          },
          "metadata": {}
        },
        {
          "output_type": "display_data",
          "data": {
            "text/plain": [
              "Matrix([\n",
              "[-1/L],\n",
              "[ 1/L]])"
            ],
            "text/latex": "$\\displaystyle \\left[\\begin{matrix}- \\frac{1}{L}\\\\\\frac{1}{L}\\end{matrix}\\right]$"
          },
          "metadata": {}
        },
        {
          "output_type": "display_data",
          "data": {
            "text/plain": [
              "'K^e ='"
            ],
            "application/vnd.google.colaboratory.intrinsic+json": {
              "type": "string"
            }
          },
          "metadata": {}
        },
        {
          "output_type": "display_data",
          "data": {
            "text/plain": [
              "Matrix([\n",
              "[ EA/L, -EA/L],\n",
              "[-EA/L,  EA/L]])"
            ],
            "text/latex": "$\\displaystyle \\left[\\begin{matrix}\\frac{EA}{L} & - \\frac{EA}{L}\\\\- \\frac{EA}{L} & \\frac{EA}{L}\\end{matrix}\\right]$"
          },
          "metadata": {}
        },
        {
          "output_type": "display_data",
          "data": {
            "text/plain": [
              "'N ='"
            ],
            "application/vnd.google.colaboratory.intrinsic+json": {
              "type": "string"
            }
          },
          "metadata": {}
        },
        {
          "output_type": "display_data",
          "data": {
            "text/plain": [
              "Matrix([\n",
              "[1 - x/L],\n",
              "[    x/L]])"
            ],
            "text/latex": "$\\displaystyle \\left[\\begin{matrix}1 - \\frac{x}{L}\\\\\\frac{x}{L}\\end{matrix}\\right]$"
          },
          "metadata": {}
        },
        {
          "output_type": "display_data",
          "data": {
            "text/plain": [
              "'Nodal Force Vector'"
            ],
            "application/vnd.google.colaboratory.intrinsic+json": {
              "type": "string"
            }
          },
          "metadata": {}
        },
        {
          "output_type": "display_data",
          "data": {
            "text/plain": [
              "'f^e ='"
            ],
            "application/vnd.google.colaboratory.intrinsic+json": {
              "type": "string"
            }
          },
          "metadata": {}
        },
        {
          "output_type": "display_data",
          "data": {
            "text/plain": [
              "Matrix([\n",
              "[0],\n",
              "[p]])"
            ],
            "text/latex": "$\\displaystyle \\left[\\begin{matrix}0\\\\p\\end{matrix}\\right]$"
          },
          "metadata": {}
        }
      ]
    },
    {
      "cell_type": "code",
      "execution_count": 72,
      "metadata": {
        "colab": {
          "base_uri": "https://localhost:8080/",
          "height": 489
        },
        "id": "HTZKg__KDHa7",
        "outputId": "65f13513-bc4f-480c-a3db-3c31c1b4df63"
      },
      "outputs": [
        {
          "output_type": "display_data",
          "data": {
            "text/plain": [
              "<Figure size 640x480 with 1 Axes>"
            ],
            "image/png": "[encoded data removed]"
          },
          "metadata": {}
        },
        {
          "output_type": "stream",
          "name": "stdout",
          "text": [
            "Deplacement max [10.]\n"
          ]
        }
      ],
      "source": [
        "\n",
        "import numpy as np\n",
        "import matplotlib.pyplot as plt\n",
        "\n",
        "# Material properties\n",
        "E = 100  # Young's modulus MPa\n",
        "A = 10  # Cross-sectional area mm2\n",
        "\n",
        "# Mesh parameters\n",
        "num_elements = 10\n",
        "num_nodes = num_elements + 1\n",
        "L = 50  # Length of the bar mm\n",
        "dx = L / num_elements\n",
        "\n",
        "# Global stiffness matrix and load vector\n",
        "K_global = np.zeros((num_nodes, num_nodes))\n",
        "F_global = np.zeros((num_nodes, 1))\n",
        "\n",
        "# Element stiffness matrix\n",
        "Ke = E * A / dx * np.array([[1, -1], [-1, 1]])\n",
        "\n",
        "# Assembling global stiffness matrix\n",
        "for i in range(num_elements):\n",
        "    # Indices of nodes for the current element\n",
        "    node1 = i\n",
        "    node2 = i + 1\n",
        "\n",
        "    # Assemble element stiffness matrix\n",
        "    K_global[node1:node2 + 1, node1:node2 + 1] += Ke\n",
        "\n",
        "# Applying boundary conditions (Dirichlet BC: u(0) = 0 (removed in Kred), F(L) = +200 (last))\n",
        "Kred=K_global[1:num_nodes,1:num_nodes]\n",
        "F_global[-1] = 200 #N\n",
        "Fred=F_global[1:num_nodes]\n",
        "\n",
        "# Solve for displacement\n",
        "Ured = np.linalg.solve(Kred, Fred)\n",
        "U = np.zeros((num_nodes,1))  # Initialize U with zeros, size 1xnum_nodes\n",
        "U[1:num_nodes] = Ured\n",
        "\n",
        "# Plotting\n",
        "x = np.linspace(0, L, num_nodes)\n",
        "\n",
        "# Undeformed bar\n",
        "plt.plot(x, np.zeros_like(x), 'k-', label='Undeformed Bar', linewidth=2)\n",
        "\n",
        "# Deformed bar\n",
        "plt.plot(x+U, 1+np.zeros_like(x), 'r-', label='Deformed Bar', linewidth=2)\n",
        "\n",
        "plt.xlabel('displacement (mm)')\n",
        "plt.ylabel('deformed and Undeformed Bar')\n",
        "plt.title('deformed and Undeformed Bar')\n",
        "plt.grid(True)\n",
        "plt.show()\n",
        "\n",
        "Umax=F_global[-1]*L/(E*A)\n",
        "print('Deplacement max', Umax)"
      ]
    },
    {
      "cell_type": "code",
      "source": [
        "import sympy as sp\n",
        "from sympy import solve,Matrix,diff,integrate\n",
        "a0,a1,a2,x,L,EA,p = sp.symbols(\"a_0 a_1 a_2 x L EA p\")\n",
        "u1,u2,u3 = sp.symbols(\"u_1 u_2 u_3\")\n",
        "u = a0+a1*x+a2*x**2\n",
        "display(\"Quadratic Form of Displacement:\")\n",
        "display(\"u =\", u)\n",
        "eq1 = u.subs({x:0})\n",
        "eq2 = u.subs({x:L/2})\n",
        "eq3 = u.subs({x:L})\n",
        "s = solve((eq1-u1,eq2-u2,eq3-u3),a0,a1,a2)\n",
        "display(\"Solve\")\n",
        "display(\"a_0 =\",s[a0],\"a_1 =\",s[a1],\"a_2 =\",s[a2])\n",
        "u = u.subs(s).expand()\n",
        "display(\"Rearranging\")\n",
        "display(\"u =\",u)\n",
        "N1 = u.coeff(u1)\n",
        "N2 = u.coeff(u2)\n",
        "N3 = u.coeff(u3)\n",
        "display(\"Shape Functions\")\n",
        "B = Matrix([[diff(N1,x),diff(N2,x),diff(N3,x)]])\n",
        "display(\"B =\",B.T)\n",
        "K = EA*Matrix([[integrate(B[i]*B[j], (x,0,L)) for i in range(3)] for j in range(3)])\n",
        "display(\"K^e =\",K)\n",
        "Nn = Matrix([[N1,N2,N3]]).T\n",
        "display(\"N =\",Nn)\n",
        "fe = Matrix([p*integrate(Nn[i],(x,0,L))for i in range(3)])\n",
        "display(\"Nodal Force Vector\")\n",
        "display(\"f^e =\",fe)\n"
      ],
      "metadata": {
        "colab": {
          "base_uri": "https://localhost:8080/",
          "height": 678
        },
        "id": "fQarRQeUK520",
        "outputId": "2188a02e-4ac2-4c52-c65b-10e51cd7da2c"
      },
      "execution_count": 73,
      "outputs": [
        {
          "output_type": "display_data",
          "data": {
            "text/plain": [
              "'Quadratic Form of Displacement:'"
            ],
            "application/vnd.google.colaboratory.intrinsic+json": {
              "type": "string"
            }
          },
          "metadata": {}
        },
        {
          "output_type": "display_data",
          "data": {
            "text/plain": [
              "'u ='"
            ],
            "application/vnd.google.colaboratory.intrinsic+json": {
              "type": "string"
            }
          },
          "metadata": {}
        },
        {
          "output_type": "display_data",
          "data": {
            "text/plain": [
              "a_0 + a_1*x + a_2*x**2"
            ],
            "text/latex": "$\\displaystyle a_{0} + a_{1} x + a_{2} x^{2}$"
          },
          "metadata": {}
        },
        {
          "output_type": "display_data",
          "data": {
            "text/plain": [
              "'Solve'"
            ],
            "application/vnd.google.colaboratory.intrinsic+json": {
              "type": "string"
            }
          },
          "metadata": {}
        },
        {
          "output_type": "display_data",
          "data": {
            "text/plain": [
              "'a_0 ='"
            ],
            "application/vnd.google.colaboratory.intrinsic+json": {
              "type": "string"
            }
          },
          "metadata": {}
        },
        {
          "output_type": "display_data",
          "data": {
            "text/plain": [
              "u_1"
            ],
            "text/latex": "$\\displaystyle u_{1}$"
          },
          "metadata": {}
        },
        {
          "output_type": "display_data",
          "data": {
            "text/plain": [
              "'a_1 ='"
            ],
            "application/vnd.google.colaboratory.intrinsic+json": {
              "type": "string"
            }
          },
          "metadata": {}
        },
        {
          "output_type": "display_data",
          "data": {
            "text/plain": [
              "(-3*u_1 + 4*u_2 - u_3)/L"
            ],
            "text/latex": "$\\displaystyle \\frac{- 3 u_{1} + 4 u_{2} - u_{3}}{L}$"
          },
          "metadata": {}
        },
        {
          "output_type": "display_data",
          "data": {
            "text/plain": [
              "'a_2 ='"
            ],
            "application/vnd.google.colaboratory.intrinsic+json": {
              "type": "string"
            }
          },
          "metadata": {}
        },
        {
          "output_type": "display_data",
          "data": {
            "text/plain": [
              "(2*u_1 - 4*u_2 + 2*u_3)/L**2"
            ],
            "text/latex": "$\\displaystyle \\frac{2 u_{1} - 4 u_{2} + 2 u_{3}}{L^{2}}$"
          },
          "metadata": {}
        },
        {
          "output_type": "display_data",
          "data": {
            "text/plain": [
              "'Rearranging'"
            ],
            "application/vnd.google.colaboratory.intrinsic+json": {
              "type": "string"
            }
          },
          "metadata": {}
        },
        {
          "output_type": "display_data",
          "data": {
            "text/plain": [
              "'u ='"
            ],
            "application/vnd.google.colaboratory.intrinsic+json": {
              "type": "string"
            }
          },
          "metadata": {}
        },
        {
          "output_type": "display_data",
          "data": {
            "text/plain": [
              "u_1 - 3*u_1*x/L + 4*u_2*x/L - u_3*x/L + 2*u_1*x**2/L**2 - 4*u_2*x**2/L**2 + 2*u_3*x**2/L**2"
            ],
            "text/latex": "$\\displaystyle u_{1} - \\frac{3 u_{1} x}{L} + \\frac{4 u_{2} x}{L} - \\frac{u_{3} x}{L} + \\frac{2 u_{1} x^{2}}{L^{2}} - \\frac{4 u_{2} x^{2}}{L^{2}} + \\frac{2 u_{3} x^{2}}{L^{2}}$"
          },
          "metadata": {}
        },
        {
          "output_type": "display_data",
          "data": {
            "text/plain": [
              "'Shape Functions'"
            ],
            "application/vnd.google.colaboratory.intrinsic+json": {
              "type": "string"
            }
          },
          "metadata": {}
        },
        {
          "output_type": "display_data",
          "data": {
            "text/plain": [
              "'B ='"
            ],
            "application/vnd.google.colaboratory.intrinsic+json": {
              "type": "string"
            }
          },
          "metadata": {}
        },
        {
          "output_type": "display_data",
          "data": {
            "text/plain": [
              "Matrix([\n",
              "[-3/L + 4*x/L**2],\n",
              "[ 4/L - 8*x/L**2],\n",
              "[-1/L + 4*x/L**2]])"
            ],
            "text/latex": "$\\displaystyle \\left[\\begin{matrix}- \\frac{3}{L} + \\frac{4 x}{L^{2}}\\\\\\frac{4}{L} - \\frac{8 x}{L^{2}}\\\\- \\frac{1}{L} + \\frac{4 x}{L^{2}}\\end{matrix}\\right]$"
          },
          "metadata": {}
        },
        {
          "output_type": "display_data",
          "data": {
            "text/plain": [
              "'K^e ='"
            ],
            "application/vnd.google.colaboratory.intrinsic+json": {
              "type": "string"
            }
          },
          "metadata": {}
        },
        {
          "output_type": "display_data",
          "data": {
            "text/plain": [
              "Matrix([\n",
              "[ 7*EA/(3*L), -8*EA/(3*L),    EA/(3*L)],\n",
              "[-8*EA/(3*L), 16*EA/(3*L), -8*EA/(3*L)],\n",
              "[   EA/(3*L), -8*EA/(3*L),  7*EA/(3*L)]])"
            ],
            "text/latex": "$\\displaystyle \\left[\\begin{matrix}\\frac{7 EA}{3 L} & - \\frac{8 EA}{3 L} & \\frac{EA}{3 L}\\\\- \\frac{8 EA}{3 L} & \\frac{16 EA}{3 L} & - \\frac{8 EA}{3 L}\\\\\\frac{EA}{3 L} & - \\frac{8 EA}{3 L} & \\frac{7 EA}{3 L}\\end{matrix}\\right]$"
          },
          "metadata": {}
        },
        {
          "output_type": "display_data",
          "data": {
            "text/plain": [
              "'N ='"
            ],
            "application/vnd.google.colaboratory.intrinsic+json": {
              "type": "string"
            }
          },
          "metadata": {}
        },
        {
          "output_type": "display_data",
          "data": {
            "text/plain": [
              "Matrix([\n",
              "[1 - 3*x/L + 2*x**2/L**2],\n",
              "[    4*x/L - 4*x**2/L**2],\n",
              "[     -x/L + 2*x**2/L**2]])"
            ],
            "text/latex": "$\\displaystyle \\left[\\begin{matrix}1 - \\frac{3 x}{L} + \\frac{2 x^{2}}{L^{2}}\\\\\\frac{4 x}{L} - \\frac{4 x^{2}}{L^{2}}\\\\- \\frac{x}{L} + \\frac{2 x^{2}}{L^{2}}\\end{matrix}\\right]$"
          },
          "metadata": {}
        },
        {
          "output_type": "display_data",
          "data": {
            "text/plain": [
              "'Nodal Force Vector'"
            ],
            "application/vnd.google.colaboratory.intrinsic+json": {
              "type": "string"
            }
          },
          "metadata": {}
        },
        {
          "output_type": "display_data",
          "data": {
            "text/plain": [
              "'f^e ='"
            ],
            "application/vnd.google.colaboratory.intrinsic+json": {
              "type": "string"
            }
          },
          "metadata": {}
        },
        {
          "output_type": "display_data",
          "data": {
            "text/plain": [
              "Matrix([\n",
              "[  L*p/6],\n",
              "[2*L*p/3],\n",
              "[  L*p/6]])"
            ],
            "text/latex": "$\\displaystyle \\left[\\begin{matrix}\\frac{L p}{6}\\\\\\frac{2 L p}{3}\\\\\\frac{L p}{6}\\end{matrix}\\right]$"
          },
          "metadata": {}
        }
      ]
    },
    {
      "cell_type": "code",
      "source": [],
      "metadata": {
        "id": "emIoH71lvFv-"
      },
      "execution_count": 32,
      "outputs": []
    },
    {
      "cell_type": "code",
      "source": [],
      "metadata": {
        "id": "RkuA0ZPlvGAk"
      },
      "execution_count": 51,
      "outputs": []
    },
    {
      "cell_type": "code",
      "source": [],
      "metadata": {
        "id": "Qf-YjAVu3_Ny"
      },
      "execution_count": 50,
      "outputs": []
    },
    {
      "cell_type": "code",
      "source": [],
      "metadata": {
        "id": "olMiOJaN4TWg"
      },
      "execution_count": 49,
      "outputs": []
    },
    {
      "cell_type": "code",
      "source": [],
      "metadata": {
        "id": "b8WcRURv4g-d"
      },
      "execution_count": 48,
      "outputs": []
    }
  ]
}