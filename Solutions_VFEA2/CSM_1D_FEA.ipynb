{
  "nbformat": 4,
  "nbformat_minor": 0,
  "metadata": {
    "colab": {
      "provenance": []
    },
    "kernelspec": {
      "name": "python3",
      "display_name": "Python 3"
    },
    "language_info": {
      "name": "python"
    }
  },
  "cells": [
    {
      "cell_type": "code",
      "execution_count": null,
      "metadata": {
        "colab": {
          "base_uri": "https://localhost:8080/",
          "height": 127
        },
        "id": "jfCkPXiZyvov",
        "outputId": "72a6275d-31c2-4d2e-8466-28ec784dec66"
      },
      "outputs": [
        {
          "output_type": "display_data",
          "data": {
            "text/plain": [
              "'u_exact(x) ='"
            ],
            "application/vnd.google.colaboratory.intrinsic+json": {
              "type": "string"
            }
          },
          "metadata": {}
        },
        {
          "output_type": "display_data",
          "data": {
            "text/plain": [
              "L**2*c*x/(2*EA) - c*x**3/(6*EA)"
            ],
            "text/latex": "$\\displaystyle \\frac{L^{2} c x}{2 EA} - \\frac{c x^{3}}{6 EA}$"
          },
          "metadata": {}
        },
        {
          "output_type": "display_data",
          "data": {
            "text/plain": [
              "'s_exact(x) ='"
            ],
            "application/vnd.google.colaboratory.intrinsic+json": {
              "type": "string"
            }
          },
          "metadata": {}
        },
        {
          "output_type": "display_data",
          "data": {
            "text/plain": [
              "L**2*c/(2*EA) - c*x**2/(2*EA)"
            ],
            "text/latex": "$\\displaystyle \\frac{L^{2} c}{2 EA} - \\frac{c x^{2}}{2 EA}$"
          },
          "metadata": {}
        }
      ],
      "source": [
        "import sympy as sp\n",
        "import numpy as np\n",
        "from sympy import lambdify\n",
        "from matplotlib import pyplot as plt\n",
        "x, c, L, EA = sp.symbols(\"x c L EA\")\n",
        "xL = np.arange(0,1,0.01)\n",
        "#c,L,EA = 1,1,1\n",
        "# Exact Calculations\n",
        "u_exact = c*L**2/2/EA*x - c/sp.Rational(\"6\")/EA*x**3\n",
        "s_exact = u_exact.diff(x)\n",
        "display(\"u_exact(x) =\",u_exact,\"s_exact(x) =\",s_exact)\n",
        "F = lambdify(x,u_exact)\n",
        "dF = lambdify(x,s_exact)\n",
        "y_exact = F(xL)\n",
        "sy_exact = dF(xL)\n",
        "\n",
        "u1 = c*L**3/EA*(47/384)\n",
        "u2 = c*L**3/EA*(11/48)\n",
        "u3 = c*L**3/EA*(39/128)\n",
        "u4 = c*L**3/EA*(1/3)"
      ]
    },
    {
      "cell_type": "code",
      "source": [
        "from sympy import symbols\n",
        "from sympy.matrices import Matrix\n",
        "L, c, E, A = symbols('L, c, E, A')\n",
        "K = Matrix([[8/L, -4/L, 0, 0],\n",
        "[-4/L, 8/L, -4/L, 0],\n",
        "[0, -4/L, 8/L,-4/L],\n",
        "[0, 0, -4/L, 4/L]])\n",
        "b = (c*L**2)/(E*A) * Matrix([1/16., 1/8., 3/16., 11/96.])\n",
        "print (K.solve(b))"
      ],
      "metadata": {
        "colab": {
          "base_uri": "https://localhost:8080/"
        },
        "id": "pwcm2sTgt7GH",
        "outputId": "4bf4f19f-bdd4-4af3-c7d2-ccc32348dd1d"
      },
      "execution_count": null,
      "outputs": [
        {
          "output_type": "stream",
          "name": "stdout",
          "text": [
            "Matrix([[0.122395833333333*L**3*c/(A*E)], [0.229166666666667*L**3*c/(A*E)], [0.3046875*L**3*c/(A*E)], [0.333333333333333*L**3*c/(A*E)]])\n"
          ]
        }
      ]
    }
  ]
}